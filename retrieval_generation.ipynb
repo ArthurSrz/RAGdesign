{
 "cells": [
  {
   "cell_type": "code",
   "execution_count": 12,
   "id": "45492c3f",
   "metadata": {},
   "outputs": [
    {
     "name": "stdout",
     "output_type": "stream",
     "text": [
      "Requirement already satisfied: llama-index in /opt/homebrew/lib/python3.10/site-packages (from -r requirements.txt (line 1)) (0.12.8)\n",
      "Requirement already satisfied: llama-index-readers-obsidian in /opt/homebrew/lib/python3.10/site-packages (from -r requirements.txt (line 2)) (0.4.0)\n",
      "Requirement already satisfied: ipywidgets in /opt/homebrew/lib/python3.10/site-packages (from -r requirements.txt (line 3)) (8.1.5)\n",
      "Requirement already satisfied: tqdm in /opt/homebrew/lib/python3.10/site-packages (from -r requirements.txt (line 4)) (4.67.1)\n",
      "Requirement already satisfied: ipython in /Users/arthursarazin/Library/Python/3.10/lib/python/site-packages (from -r requirements.txt (line 5)) (8.16.0)\n",
      "Requirement already satisfied: huggingface-hub in /opt/homebrew/lib/python3.10/site-packages (from -r requirements.txt (line 6)) (0.27.0)\n",
      "Requirement already satisfied: openai in /opt/homebrew/lib/python3.10/site-packages (from -r requirements.txt (line 7)) (1.58.1)\n",
      "Requirement already satisfied: pyyaml in /opt/homebrew/lib/python3.10/site-packages (from -r requirements.txt (line 8)) (6.0.2)\n",
      "Requirement already satisfied: llama-index-llms-ollama in /opt/homebrew/lib/python3.10/site-packages (from -r requirements.txt (line 9)) (0.5.0)\n",
      "Requirement already satisfied: llama-index-embeddings-ollama in /opt/homebrew/lib/python3.10/site-packages (from -r requirements.txt (line 10)) (0.5.0)\n",
      "Requirement already satisfied: llama-index-embeddings-huggingface in /opt/homebrew/lib/python3.10/site-packages (from -r requirements.txt (line 11)) (0.4.0)\n",
      "Requirement already satisfied: llama-index-llms-huggingface-api in /opt/homebrew/lib/python3.10/site-packages (from -r requirements.txt (line 12)) (0.3.1)\n",
      "Requirement already satisfied: ipykernel in /Users/arthursarazin/Library/Python/3.10/lib/python/site-packages (from -r requirements.txt (line 13)) (6.25.2)\n",
      "Requirement already satisfied: pyvis in /opt/homebrew/lib/python3.10/site-packages (from -r requirements.txt (line 14)) (0.3.2)\n",
      "Requirement already satisfied: python-dotenv in /opt/homebrew/lib/python3.10/site-packages (from -r requirements.txt (line 15)) (1.0.1)\n",
      "Requirement already satisfied: llama-index-agent-openai<0.5.0,>=0.4.0 in /opt/homebrew/lib/python3.10/site-packages (from llama-index->-r requirements.txt (line 1)) (0.4.1)\n",
      "Requirement already satisfied: llama-index-cli<0.5.0,>=0.4.0 in /opt/homebrew/lib/python3.10/site-packages (from llama-index->-r requirements.txt (line 1)) (0.4.0)\n",
      "Requirement already satisfied: llama-index-core<0.13.0,>=0.12.8 in /opt/homebrew/lib/python3.10/site-packages (from llama-index->-r requirements.txt (line 1)) (0.12.8)\n",
      "Requirement already satisfied: llama-index-embeddings-openai<0.4.0,>=0.3.0 in /opt/homebrew/lib/python3.10/site-packages (from llama-index->-r requirements.txt (line 1)) (0.3.1)\n",
      "Requirement already satisfied: llama-index-indices-managed-llama-cloud>=0.4.0 in /opt/homebrew/lib/python3.10/site-packages (from llama-index->-r requirements.txt (line 1)) (0.6.3)\n",
      "Requirement already satisfied: llama-index-llms-openai<0.4.0,>=0.3.0 in /opt/homebrew/lib/python3.10/site-packages (from llama-index->-r requirements.txt (line 1)) (0.3.12)\n",
      "Requirement already satisfied: llama-index-multi-modal-llms-openai<0.5.0,>=0.4.0 in /opt/homebrew/lib/python3.10/site-packages (from llama-index->-r requirements.txt (line 1)) (0.4.1)\n",
      "Requirement already satisfied: llama-index-program-openai<0.4.0,>=0.3.0 in /opt/homebrew/lib/python3.10/site-packages (from llama-index->-r requirements.txt (line 1)) (0.3.1)\n",
      "Requirement already satisfied: llama-index-question-gen-openai<0.4.0,>=0.3.0 in /opt/homebrew/lib/python3.10/site-packages (from llama-index->-r requirements.txt (line 1)) (0.3.0)\n",
      "Requirement already satisfied: llama-index-readers-file<0.5.0,>=0.4.0 in /opt/homebrew/lib/python3.10/site-packages (from llama-index->-r requirements.txt (line 1)) (0.4.1)\n",
      "Requirement already satisfied: llama-index-readers-llama-parse>=0.4.0 in /opt/homebrew/lib/python3.10/site-packages (from llama-index->-r requirements.txt (line 1)) (0.4.0)\n",
      "Requirement already satisfied: nltk>3.8.1 in /opt/homebrew/lib/python3.10/site-packages (from llama-index->-r requirements.txt (line 1)) (3.9.1)\n",
      "Requirement already satisfied: comm>=0.1.3 in /Users/arthursarazin/Library/Python/3.10/lib/python/site-packages (from ipywidgets->-r requirements.txt (line 3)) (0.1.4)\n",
      "Requirement already satisfied: traitlets>=4.3.1 in /Users/arthursarazin/Library/Python/3.10/lib/python/site-packages (from ipywidgets->-r requirements.txt (line 3)) (5.10.1)\n",
      "Requirement already satisfied: widgetsnbextension~=4.0.12 in /opt/homebrew/lib/python3.10/site-packages (from ipywidgets->-r requirements.txt (line 3)) (4.0.13)\n",
      "Requirement already satisfied: jupyterlab-widgets~=3.0.12 in /opt/homebrew/lib/python3.10/site-packages (from ipywidgets->-r requirements.txt (line 3)) (3.0.13)\n",
      "Requirement already satisfied: backcall in /Users/arthursarazin/Library/Python/3.10/lib/python/site-packages (from ipython->-r requirements.txt (line 5)) (0.2.0)\n",
      "Requirement already satisfied: decorator in /Users/arthursarazin/Library/Python/3.10/lib/python/site-packages (from ipython->-r requirements.txt (line 5)) (5.1.1)\n",
      "Requirement already satisfied: jedi>=0.16 in /Users/arthursarazin/Library/Python/3.10/lib/python/site-packages (from ipython->-r requirements.txt (line 5)) (0.19.0)\n",
      "Requirement already satisfied: matplotlib-inline in /Users/arthursarazin/Library/Python/3.10/lib/python/site-packages (from ipython->-r requirements.txt (line 5)) (0.1.6)\n",
      "Requirement already satisfied: pickleshare in /Users/arthursarazin/Library/Python/3.10/lib/python/site-packages (from ipython->-r requirements.txt (line 5)) (0.7.5)\n",
      "Requirement already satisfied: prompt-toolkit!=3.0.37,<3.1.0,>=3.0.30 in /Users/arthursarazin/Library/Python/3.10/lib/python/site-packages (from ipython->-r requirements.txt (line 5)) (3.0.39)\n",
      "Requirement already satisfied: pygments>=2.4.0 in /Users/arthursarazin/Library/Python/3.10/lib/python/site-packages (from ipython->-r requirements.txt (line 5)) (2.16.1)\n",
      "Requirement already satisfied: stack-data in /Users/arthursarazin/Library/Python/3.10/lib/python/site-packages (from ipython->-r requirements.txt (line 5)) (0.6.2)\n",
      "Requirement already satisfied: exceptiongroup in /Users/arthursarazin/Library/Python/3.10/lib/python/site-packages (from ipython->-r requirements.txt (line 5)) (1.1.3)\n",
      "Requirement already satisfied: pexpect>4.3 in /Users/arthursarazin/Library/Python/3.10/lib/python/site-packages (from ipython->-r requirements.txt (line 5)) (4.8.0)\n",
      "Requirement already satisfied: appnope in /Users/arthursarazin/Library/Python/3.10/lib/python/site-packages (from ipython->-r requirements.txt (line 5)) (0.1.3)\n",
      "Requirement already satisfied: filelock in /opt/homebrew/lib/python3.10/site-packages (from huggingface-hub->-r requirements.txt (line 6)) (3.16.1)\n",
      "Requirement already satisfied: fsspec>=2023.5.0 in /opt/homebrew/lib/python3.10/site-packages (from huggingface-hub->-r requirements.txt (line 6)) (2024.12.0)\n",
      "Requirement already satisfied: packaging>=20.9 in /Users/arthursarazin/Library/Python/3.10/lib/python/site-packages (from huggingface-hub->-r requirements.txt (line 6)) (23.1)\n",
      "Requirement already satisfied: requests in /opt/homebrew/lib/python3.10/site-packages (from huggingface-hub->-r requirements.txt (line 6)) (2.32.3)\n",
      "Requirement already satisfied: typing-extensions>=3.7.4.3 in /opt/homebrew/lib/python3.10/site-packages (from huggingface-hub->-r requirements.txt (line 6)) (4.12.2)\n",
      "Requirement already satisfied: anyio<5,>=3.5.0 in /opt/homebrew/lib/python3.10/site-packages (from openai->-r requirements.txt (line 7)) (4.7.0)\n",
      "Requirement already satisfied: distro<2,>=1.7.0 in /opt/homebrew/lib/python3.10/site-packages (from openai->-r requirements.txt (line 7)) (1.9.0)\n",
      "Requirement already satisfied: httpx<1,>=0.23.0 in /opt/homebrew/lib/python3.10/site-packages (from openai->-r requirements.txt (line 7)) (0.27.2)\n",
      "Requirement already satisfied: jiter<1,>=0.4.0 in /opt/homebrew/lib/python3.10/site-packages (from openai->-r requirements.txt (line 7)) (0.8.2)\n",
      "Requirement already satisfied: pydantic<3,>=1.9.0 in /opt/homebrew/lib/python3.10/site-packages (from openai->-r requirements.txt (line 7)) (2.10.4)\n",
      "Requirement already satisfied: sniffio in /opt/homebrew/lib/python3.10/site-packages (from openai->-r requirements.txt (line 7)) (1.3.1)\n",
      "Requirement already satisfied: ollama>=0.4.3 in /opt/homebrew/lib/python3.10/site-packages (from llama-index-llms-ollama->-r requirements.txt (line 9)) (0.4.4)\n",
      "Requirement already satisfied: sentence-transformers>=2.6.1 in /opt/homebrew/lib/python3.10/site-packages (from llama-index-embeddings-huggingface->-r requirements.txt (line 11)) (3.3.1)\n",
      "Requirement already satisfied: debugpy>=1.6.5 in /Users/arthursarazin/Library/Python/3.10/lib/python/site-packages (from ipykernel->-r requirements.txt (line 13)) (1.8.0)\n",
      "Requirement already satisfied: jupyter-client>=6.1.12 in /Users/arthursarazin/Library/Python/3.10/lib/python/site-packages (from ipykernel->-r requirements.txt (line 13)) (8.3.1)\n",
      "Requirement already satisfied: jupyter-core!=5.0.*,>=4.12 in /Users/arthursarazin/Library/Python/3.10/lib/python/site-packages (from ipykernel->-r requirements.txt (line 13)) (5.3.2)\n",
      "Requirement already satisfied: nest-asyncio in /Users/arthursarazin/Library/Python/3.10/lib/python/site-packages (from ipykernel->-r requirements.txt (line 13)) (1.5.8)\n",
      "Requirement already satisfied: psutil in /Users/arthursarazin/Library/Python/3.10/lib/python/site-packages (from ipykernel->-r requirements.txt (line 13)) (5.9.5)\n",
      "Requirement already satisfied: pyzmq>=20 in /Users/arthursarazin/Library/Python/3.10/lib/python/site-packages (from ipykernel->-r requirements.txt (line 13)) (25.1.1)\n",
      "Requirement already satisfied: tornado>=6.1 in /Users/arthursarazin/Library/Python/3.10/lib/python/site-packages (from ipykernel->-r requirements.txt (line 13)) (6.3.3)\n",
      "Requirement already satisfied: jinja2>=2.9.6 in /opt/homebrew/lib/python3.10/site-packages (from pyvis->-r requirements.txt (line 14)) (3.1.5)\n",
      "Requirement already satisfied: jsonpickle>=1.4.1 in /opt/homebrew/lib/python3.10/site-packages (from pyvis->-r requirements.txt (line 14)) (4.0.1)\n",
      "Requirement already satisfied: networkx>=1.11 in /opt/homebrew/lib/python3.10/site-packages (from pyvis->-r requirements.txt (line 14)) (3.4.2)\n",
      "Requirement already satisfied: idna>=2.8 in /opt/homebrew/lib/python3.10/site-packages (from anyio<5,>=3.5.0->openai->-r requirements.txt (line 7)) (3.10)\n",
      "Requirement already satisfied: certifi in /opt/homebrew/lib/python3.10/site-packages (from httpx<1,>=0.23.0->openai->-r requirements.txt (line 7)) (2024.12.14)\n",
      "Requirement already satisfied: httpcore==1.* in /opt/homebrew/lib/python3.10/site-packages (from httpx<1,>=0.23.0->openai->-r requirements.txt (line 7)) (1.0.7)\n",
      "Requirement already satisfied: h11<0.15,>=0.13 in /opt/homebrew/lib/python3.10/site-packages (from httpcore==1.*->httpx<1,>=0.23.0->openai->-r requirements.txt (line 7)) (0.14.0)\n",
      "Requirement already satisfied: aiohttp in /opt/homebrew/lib/python3.10/site-packages (from huggingface-hub[inference]>=0.19.0->llama-index-embeddings-huggingface->-r requirements.txt (line 11)) (3.11.11)\n",
      "Requirement already satisfied: parso<0.9.0,>=0.8.3 in /Users/arthursarazin/Library/Python/3.10/lib/python/site-packages (from jedi>=0.16->ipython->-r requirements.txt (line 5)) (0.8.3)\n",
      "Requirement already satisfied: MarkupSafe>=2.0 in /opt/homebrew/lib/python3.10/site-packages (from jinja2>=2.9.6->pyvis->-r requirements.txt (line 14)) (3.0.2)\n",
      "Requirement already satisfied: python-dateutil>=2.8.2 in /Users/arthursarazin/Library/Python/3.10/lib/python/site-packages (from jupyter-client>=6.1.12->ipykernel->-r requirements.txt (line 13)) (2.8.2)\n",
      "Requirement already satisfied: platformdirs>=2.5 in /Users/arthursarazin/Library/Python/3.10/lib/python/site-packages (from jupyter-core!=5.0.*,>=4.12->ipykernel->-r requirements.txt (line 13)) (3.10.0)\n",
      "Requirement already satisfied: SQLAlchemy>=1.4.49 in /opt/homebrew/lib/python3.10/site-packages (from SQLAlchemy[asyncio]>=1.4.49->llama-index-core<0.13.0,>=0.12.8->llama-index->-r requirements.txt (line 1)) (2.0.36)\n",
      "Requirement already satisfied: dataclasses-json in /opt/homebrew/lib/python3.10/site-packages (from llama-index-core<0.13.0,>=0.12.8->llama-index->-r requirements.txt (line 1)) (0.6.7)\n",
      "Requirement already satisfied: deprecated>=1.2.9.3 in /opt/homebrew/lib/python3.10/site-packages (from llama-index-core<0.13.0,>=0.12.8->llama-index->-r requirements.txt (line 1)) (1.2.15)\n",
      "Requirement already satisfied: dirtyjson<2.0.0,>=1.0.8 in /opt/homebrew/lib/python3.10/site-packages (from llama-index-core<0.13.0,>=0.12.8->llama-index->-r requirements.txt (line 1)) (1.0.8)\n",
      "Requirement already satisfied: filetype<2.0.0,>=1.2.0 in /opt/homebrew/lib/python3.10/site-packages (from llama-index-core<0.13.0,>=0.12.8->llama-index->-r requirements.txt (line 1)) (1.2.0)\n",
      "Requirement already satisfied: numpy in /opt/homebrew/lib/python3.10/site-packages (from llama-index-core<0.13.0,>=0.12.8->llama-index->-r requirements.txt (line 1)) (1.26.4)\n",
      "Requirement already satisfied: pillow>=9.0.0 in /opt/homebrew/lib/python3.10/site-packages (from llama-index-core<0.13.0,>=0.12.8->llama-index->-r requirements.txt (line 1)) (10.4.0)\n",
      "Requirement already satisfied: tenacity!=8.4.0,<10.0.0,>=8.2.0 in /opt/homebrew/lib/python3.10/site-packages (from llama-index-core<0.13.0,>=0.12.8->llama-index->-r requirements.txt (line 1)) (9.0.0)\n",
      "Requirement already satisfied: tiktoken>=0.3.3 in /opt/homebrew/lib/python3.10/site-packages (from llama-index-core<0.13.0,>=0.12.8->llama-index->-r requirements.txt (line 1)) (0.7.0)\n",
      "Requirement already satisfied: typing-inspect>=0.8.0 in /opt/homebrew/lib/python3.10/site-packages (from llama-index-core<0.13.0,>=0.12.8->llama-index->-r requirements.txt (line 1)) (0.9.0)\n",
      "Requirement already satisfied: wrapt in /opt/homebrew/lib/python3.10/site-packages (from llama-index-core<0.13.0,>=0.12.8->llama-index->-r requirements.txt (line 1)) (1.17.0)\n",
      "Requirement already satisfied: llama-cloud>=0.1.5 in /opt/homebrew/lib/python3.10/site-packages (from llama-index-indices-managed-llama-cloud>=0.4.0->llama-index->-r requirements.txt (line 1)) (0.1.7)\n",
      "Requirement already satisfied: beautifulsoup4<5.0.0,>=4.12.3 in /opt/homebrew/lib/python3.10/site-packages (from llama-index-readers-file<0.5.0,>=0.4.0->llama-index->-r requirements.txt (line 1)) (4.12.3)\n",
      "Requirement already satisfied: pandas in /opt/homebrew/lib/python3.10/site-packages (from llama-index-readers-file<0.5.0,>=0.4.0->llama-index->-r requirements.txt (line 1)) (2.2.1)\n",
      "Requirement already satisfied: pypdf<6.0.0,>=5.1.0 in /opt/homebrew/lib/python3.10/site-packages (from llama-index-readers-file<0.5.0,>=0.4.0->llama-index->-r requirements.txt (line 1)) (5.1.0)\n",
      "Requirement already satisfied: striprtf<0.0.27,>=0.0.26 in /opt/homebrew/lib/python3.10/site-packages (from llama-index-readers-file<0.5.0,>=0.4.0->llama-index->-r requirements.txt (line 1)) (0.0.26)\n",
      "Requirement already satisfied: llama-parse>=0.5.0 in /opt/homebrew/lib/python3.10/site-packages (from llama-index-readers-llama-parse>=0.4.0->llama-index->-r requirements.txt (line 1)) (0.5.18)\n",
      "Requirement already satisfied: click in /opt/homebrew/lib/python3.10/site-packages (from nltk>3.8.1->llama-index->-r requirements.txt (line 1)) (8.1.8)\n",
      "Requirement already satisfied: joblib in /opt/homebrew/lib/python3.10/site-packages (from nltk>3.8.1->llama-index->-r requirements.txt (line 1)) (1.4.2)\n",
      "Requirement already satisfied: regex>=2021.8.3 in /opt/homebrew/lib/python3.10/site-packages (from nltk>3.8.1->llama-index->-r requirements.txt (line 1)) (2024.11.6)\n",
      "Requirement already satisfied: ptyprocess>=0.5 in /Users/arthursarazin/Library/Python/3.10/lib/python/site-packages (from pexpect>4.3->ipython->-r requirements.txt (line 5)) (0.7.0)\n",
      "Requirement already satisfied: wcwidth in /Users/arthursarazin/Library/Python/3.10/lib/python/site-packages (from prompt-toolkit!=3.0.37,<3.1.0,>=3.0.30->ipython->-r requirements.txt (line 5)) (0.2.7)\n",
      "Requirement already satisfied: annotated-types>=0.6.0 in /opt/homebrew/lib/python3.10/site-packages (from pydantic<3,>=1.9.0->openai->-r requirements.txt (line 7)) (0.7.0)\n",
      "Requirement already satisfied: pydantic-core==2.27.2 in /opt/homebrew/lib/python3.10/site-packages (from pydantic<3,>=1.9.0->openai->-r requirements.txt (line 7)) (2.27.2)\n",
      "Requirement already satisfied: charset-normalizer<4,>=2 in /opt/homebrew/lib/python3.10/site-packages (from requests->huggingface-hub->-r requirements.txt (line 6)) (3.4.1)\n",
      "Requirement already satisfied: urllib3<3,>=1.21.1 in /opt/homebrew/lib/python3.10/site-packages (from requests->huggingface-hub->-r requirements.txt (line 6)) (2.3.0)\n",
      "Requirement already satisfied: transformers<5.0.0,>=4.41.0 in /opt/homebrew/lib/python3.10/site-packages (from sentence-transformers>=2.6.1->llama-index-embeddings-huggingface->-r requirements.txt (line 11)) (4.47.1)\n",
      "Requirement already satisfied: torch>=1.11.0 in /opt/homebrew/lib/python3.10/site-packages (from sentence-transformers>=2.6.1->llama-index-embeddings-huggingface->-r requirements.txt (line 11)) (2.5.1)\n",
      "Requirement already satisfied: scikit-learn in /opt/homebrew/lib/python3.10/site-packages (from sentence-transformers>=2.6.1->llama-index-embeddings-huggingface->-r requirements.txt (line 11)) (1.6.0)\n",
      "Requirement already satisfied: scipy in /opt/homebrew/lib/python3.10/site-packages (from sentence-transformers>=2.6.1->llama-index-embeddings-huggingface->-r requirements.txt (line 11)) (1.14.1)\n",
      "Requirement already satisfied: executing>=1.2.0 in /Users/arthursarazin/Library/Python/3.10/lib/python/site-packages (from stack-data->ipython->-r requirements.txt (line 5)) (1.2.0)\n",
      "Requirement already satisfied: asttokens>=2.1.0 in /Users/arthursarazin/Library/Python/3.10/lib/python/site-packages (from stack-data->ipython->-r requirements.txt (line 5)) (2.4.0)\n",
      "Requirement already satisfied: pure-eval in /Users/arthursarazin/Library/Python/3.10/lib/python/site-packages (from stack-data->ipython->-r requirements.txt (line 5)) (0.2.2)\n",
      "Requirement already satisfied: aiohappyeyeballs>=2.3.0 in /opt/homebrew/lib/python3.10/site-packages (from aiohttp->huggingface-hub[inference]>=0.19.0->llama-index-embeddings-huggingface->-r requirements.txt (line 11)) (2.4.4)\n",
      "Requirement already satisfied: aiosignal>=1.1.2 in /opt/homebrew/lib/python3.10/site-packages (from aiohttp->huggingface-hub[inference]>=0.19.0->llama-index-embeddings-huggingface->-r requirements.txt (line 11)) (1.3.2)\n",
      "Requirement already satisfied: async-timeout<6.0,>=4.0 in /opt/homebrew/lib/python3.10/site-packages (from aiohttp->huggingface-hub[inference]>=0.19.0->llama-index-embeddings-huggingface->-r requirements.txt (line 11)) (5.0.1)\n",
      "Requirement already satisfied: attrs>=17.3.0 in /opt/homebrew/lib/python3.10/site-packages (from aiohttp->huggingface-hub[inference]>=0.19.0->llama-index-embeddings-huggingface->-r requirements.txt (line 11)) (24.3.0)\n",
      "Requirement already satisfied: frozenlist>=1.1.1 in /opt/homebrew/lib/python3.10/site-packages (from aiohttp->huggingface-hub[inference]>=0.19.0->llama-index-embeddings-huggingface->-r requirements.txt (line 11)) (1.5.0)\n",
      "Requirement already satisfied: multidict<7.0,>=4.5 in /opt/homebrew/lib/python3.10/site-packages (from aiohttp->huggingface-hub[inference]>=0.19.0->llama-index-embeddings-huggingface->-r requirements.txt (line 11)) (6.1.0)\n",
      "Requirement already satisfied: propcache>=0.2.0 in /opt/homebrew/lib/python3.10/site-packages (from aiohttp->huggingface-hub[inference]>=0.19.0->llama-index-embeddings-huggingface->-r requirements.txt (line 11)) (0.2.1)\n",
      "Requirement already satisfied: yarl<2.0,>=1.17.0 in /opt/homebrew/lib/python3.10/site-packages (from aiohttp->huggingface-hub[inference]>=0.19.0->llama-index-embeddings-huggingface->-r requirements.txt (line 11)) (1.18.3)\n",
      "Requirement already satisfied: six>=1.12.0 in /Users/arthursarazin/Library/Python/3.10/lib/python/site-packages (from asttokens>=2.1.0->stack-data->ipython->-r requirements.txt (line 5)) (1.16.0)\n",
      "Requirement already satisfied: soupsieve>1.2 in /opt/homebrew/lib/python3.10/site-packages (from beautifulsoup4<5.0.0,>=4.12.3->llama-index-readers-file<0.5.0,>=0.4.0->llama-index->-r requirements.txt (line 1)) (2.6)\n",
      "Requirement already satisfied: greenlet!=0.4.17 in /opt/homebrew/lib/python3.10/site-packages (from SQLAlchemy[asyncio]>=1.4.49->llama-index-core<0.13.0,>=0.12.8->llama-index->-r requirements.txt (line 1)) (3.1.1)\n",
      "Requirement already satisfied: sympy==1.13.1 in /opt/homebrew/lib/python3.10/site-packages (from torch>=1.11.0->sentence-transformers>=2.6.1->llama-index-embeddings-huggingface->-r requirements.txt (line 11)) (1.13.1)\n",
      "Requirement already satisfied: mpmath<1.4,>=1.1.0 in /opt/homebrew/lib/python3.10/site-packages (from sympy==1.13.1->torch>=1.11.0->sentence-transformers>=2.6.1->llama-index-embeddings-huggingface->-r requirements.txt (line 11)) (1.3.0)\n",
      "Requirement already satisfied: tokenizers<0.22,>=0.21 in /opt/homebrew/lib/python3.10/site-packages (from transformers<5.0.0,>=4.41.0->sentence-transformers>=2.6.1->llama-index-embeddings-huggingface->-r requirements.txt (line 11)) (0.21.0)\n",
      "Requirement already satisfied: safetensors>=0.4.1 in /opt/homebrew/lib/python3.10/site-packages (from transformers<5.0.0,>=4.41.0->sentence-transformers>=2.6.1->llama-index-embeddings-huggingface->-r requirements.txt (line 11)) (0.4.5)\n",
      "Requirement already satisfied: mypy-extensions>=0.3.0 in /opt/homebrew/lib/python3.10/site-packages (from typing-inspect>=0.8.0->llama-index-core<0.13.0,>=0.12.8->llama-index->-r requirements.txt (line 1)) (1.0.0)\n",
      "Requirement already satisfied: marshmallow<4.0.0,>=3.18.0 in /opt/homebrew/lib/python3.10/site-packages (from dataclasses-json->llama-index-core<0.13.0,>=0.12.8->llama-index->-r requirements.txt (line 1)) (3.23.2)\n",
      "Requirement already satisfied: pytz>=2020.1 in /opt/homebrew/lib/python3.10/site-packages (from pandas->llama-index-readers-file<0.5.0,>=0.4.0->llama-index->-r requirements.txt (line 1)) (2023.3.post1)\n",
      "Requirement already satisfied: tzdata>=2022.7 in /opt/homebrew/lib/python3.10/site-packages (from pandas->llama-index-readers-file<0.5.0,>=0.4.0->llama-index->-r requirements.txt (line 1)) (2023.3)\n",
      "Requirement already satisfied: threadpoolctl>=3.1.0 in /opt/homebrew/lib/python3.10/site-packages (from scikit-learn->sentence-transformers>=2.6.1->llama-index-embeddings-huggingface->-r requirements.txt (line 11)) (3.5.0)\n",
      "\n",
      "\u001b[1m[\u001b[0m\u001b[34;49mnotice\u001b[0m\u001b[1;39;49m]\u001b[0m\u001b[39;49m A new release of pip is available: \u001b[0m\u001b[31;49m24.2\u001b[0m\u001b[39;49m -> \u001b[0m\u001b[32;49m24.3.1\u001b[0m\n",
      "\u001b[1m[\u001b[0m\u001b[34;49mnotice\u001b[0m\u001b[1;39;49m]\u001b[0m\u001b[39;49m To update, run: \u001b[0m\u001b[32;49mpython3.10 -m pip install --upgrade pip\u001b[0m\n",
      "Note: you may need to restart the kernel to use updated packages.\n"
     ]
    }
   ],
   "source": [
    "pip install -r requirements.txt"
   ]
  },
  {
   "cell_type": "code",
   "execution_count": 42,
   "id": "b5e9f925-0bd9-406c-a41d-8be268260b0f",
   "metadata": {},
   "outputs": [],
   "source": [
    "from llama_index.core import (\n",
    "    load_index_from_storage,\n",
    "    load_indices_from_storage,\n",
    "    load_graph_from_storage,\n",
    ")\n",
    "import nest_asyncio\n",
    "\n",
    "nest_asyncio.apply()\n",
    "\n",
    "from llama_index.embeddings.huggingface import HuggingFaceEmbedding\n",
    "from llama_index.core import Settings, StorageContext\n",
    "from llama_index.llms.ollama import Ollama\n",
    "from llama_index.core.llms import ChatMessage\n",
    "from llama_index.core.storage.docstore import SimpleDocumentStore\n",
    "from llama_index.core.vector_stores import SimpleVectorStore\n",
    "from llama_index.core.storage.index_store import SimpleIndexStore\n",
    "from llama_index.core import PromptTemplate\n",
    "from llama_index.core.memory import ChatMemoryBuffer"
   ]
  },
  {
   "cell_type": "code",
   "execution_count": 20,
   "id": "8291822a",
   "metadata": {},
   "outputs": [],
   "source": [
    "import logging\n",
    "import sys\n",
    "logging.basicConfig(stream=sys.stdout, level=logging.INFO)\n",
    "logging.getLogger().addHandler(logging.StreamHandler(stream=sys.stdout))"
   ]
  },
  {
   "cell_type": "markdown",
   "id": "512d7bc2",
   "metadata": {},
   "source": [
    "# Set local LLM for embeddings"
   ]
  },
  {
   "cell_type": "code",
   "execution_count": 21,
   "id": "aa4bc549",
   "metadata": {},
   "outputs": [
    {
     "name": "stdout",
     "output_type": "stream",
     "text": [
      "INFO:sentence_transformers.SentenceTransformer:Load pretrained SentenceTransformer: BAAI/bge-base-en-v1.5\n",
      "Load pretrained SentenceTransformer: BAAI/bge-base-en-v1.5\n",
      "Load pretrained SentenceTransformer: BAAI/bge-base-en-v1.5\n",
      "Load pretrained SentenceTransformer: BAAI/bge-base-en-v1.5\n",
      "INFO:sentence_transformers.SentenceTransformer:2 prompts are loaded, with the keys: ['query', 'text']\n",
      "2 prompts are loaded, with the keys: ['query', 'text']\n",
      "2 prompts are loaded, with the keys: ['query', 'text']\n",
      "2 prompts are loaded, with the keys: ['query', 'text']\n"
     ]
    }
   ],
   "source": [
    "# bge-base embedding model\n",
    "Settings.embed_model = HuggingFaceEmbedding(model_name=\"BAAI/bge-base-en-v1.5\")\n",
    "#Settings.embed_model = OpenAIEmbedding(model=\"text-embedding-3-small\")"
   ]
  },
  {
   "cell_type": "markdown",
   "id": "3e7a4b82",
   "metadata": {},
   "source": [
    "# Set LLM for chat  (Ollama)"
   ]
  },
  {
   "cell_type": "code",
   "execution_count": 22,
   "id": "d46a1ed0",
   "metadata": {},
   "outputs": [],
   "source": [
    "llm = Ollama(model=\"tinyllama:latest\", request_timeout=120.0)\n",
    "Settings.llm = llm\n",
    "Settings.chunk_size = 512"
   ]
  },
  {
   "cell_type": "markdown",
   "id": "7d830ba1",
   "metadata": {},
   "source": [
    "## Test"
   ]
  },
  {
   "cell_type": "code",
   "execution_count": 52,
   "id": "ca746a19",
   "metadata": {},
   "outputs": [
    {
     "name": "stdout",
     "output_type": "stream",
     "text": [
      "INFO:httpx:HTTP Request: POST http://localhost:11434/api/chat \"HTTP/1.1 200 OK\"\n",
      "HTTP Request: POST http://localhost:11434/api/chat \"HTTP/1.1 200 OK\"\n",
      "HTTP Request: POST http://localhost:11434/api/chat \"HTTP/1.1 200 OK\"\n",
      "HTTP Request: POST http://localhost:11434/api/chat \"HTTP/1.1 200 OK\"\n",
      "assistant: I don't have access to specific content on jane austen's books, but I can provide you with a general overview of the author's writing style and content.\n",
      "\n",
      "jane austen is widely regarded as one of the greatest novelists in the history of English literature. She was known for her vivid descriptions, complex characters, and emotional depth. Her stories often explore themes of love, marriage, family, and social status, which are still relevant today.\n",
      "\n",
      "austen's writing style is characterized by her use of dialogue, introspection, and a deep understanding of human nature. Her novels often focus on the inner thoughts and emotions of characters, rather than external events. She also uses humor and wit to create a lighthearted atmosphere in many of her works.\n",
      "\n",
      "austen's writing was characterized by its attention to detail, particularly in regards to setting and characterization. Her novels often depict a small-town England, where the lives of the inhabitants are closely intertwined with those of their neighbors. This attention to detail allows austen to create vivid and nuanced portraits of her characters.\n",
      "\n",
      "some examples of jane austen's most famous works include \"pride and prejudice,\" \"sense and sensibility,\" and \"emma.\" These novels are characterized by their strong female leads, complex relationships between family members, and themes of love, marriage, and social status. Despite the popularity of these books, austen's work also contains nuanced portrayals of characters with mental illnesses or disabilities, which she believed were crucial to realistic portraits of human experience.\n",
      "\n",
      "in conclusion, jane austen was a highly influential novelist who explored themes of love, marriage, family, and social status in her novels. Her writing style is characterized by its attention to detail and portrayal of characters with nuanced emotional depth. Her novels continue to be popular and important works of literature today.\n"
     ]
    }
   ],
   "source": [
    "messages = [\n",
    "    ChatMessage(\n",
    "        role=\"system\", content=\"Tu es un Jane Austen\"\n",
    "    ),\n",
    "    ChatMessage(role=\"user\", content=\"\"),\n",
    "]\n",
    "resp = llm.chat(messages)\n",
    "print(resp)"
   ]
  },
  {
   "cell_type": "markdown",
   "id": "09bc9d70",
   "metadata": {},
   "source": [
    "# Test LLM"
   ]
  },
  {
   "cell_type": "markdown",
   "id": "47252b4e-eb58-453c-9e7d-bab5286ee296",
   "metadata": {},
   "source": [
    "# Load storage contexts"
   ]
  },
  {
   "cell_type": "markdown",
   "id": "ca1e8019-e150-4a60-b59d-cac7a4aebcba",
   "metadata": {},
   "source": [
    "## Load vector storage context"
   ]
  },
  {
   "cell_type": "code",
   "execution_count": 53,
   "id": "42c55a04-2b21-4c05-96fb-f0f9ce26bb79",
   "metadata": {},
   "outputs": [],
   "source": [
    "vector_storage_context = StorageContext.from_defaults(\n",
    "    docstore=SimpleDocumentStore.from_persist_dir(persist_dir=\"vector\"),\n",
    "    vector_store=SimpleVectorStore.from_persist_dir(\n",
    "        persist_dir=\"vector\"\n",
    "    ),\n",
    "    index_store=SimpleIndexStore.from_persist_dir(persist_dir=\"vector\"),\n",
    ")"
   ]
  },
  {
   "cell_type": "markdown",
   "id": "261c3f5b-f0fa-4e10-85fd-9ff7642de428",
   "metadata": {},
   "source": [
    "# Load index"
   ]
  },
  {
   "cell_type": "markdown",
   "id": "ccb3e85a-8fca-4138-9ff9-fca4637a47e2",
   "metadata": {},
   "source": [
    "## Load vector index"
   ]
  },
  {
   "cell_type": "code",
   "execution_count": 54,
   "id": "68274006-61a7-42d7-9556-6ddae87d2b07",
   "metadata": {},
   "outputs": [
    {
     "name": "stdout",
     "output_type": "stream",
     "text": [
      "INFO:llama_index.core.indices.loading:Loading all indices.\n",
      "Loading all indices.\n",
      "Loading all indices.\n",
      "Loading all indices.\n"
     ]
    }
   ],
   "source": [
    "simple_index = load_index_from_storage(vector_storage_context)"
   ]
  },
  {
   "cell_type": "markdown",
   "id": "f8cdab09-2c63-4e23-9ca3-79102db74cf0",
   "metadata": {},
   "source": [
    "# Set retriever"
   ]
  },
  {
   "cell_type": "code",
   "execution_count": 55,
   "id": "b852a258",
   "metadata": {},
   "outputs": [],
   "source": [
    "custom_query_template = PromptTemplate(\n",
    "    \"Nous avons fourni des informations contextuelles ci-dessous. \\n\"\n",
    "    \"---------------------\\n\"\n",
    "    \"{context_str}\"\n",
    "    \"\\n---------------------\\n\"\n",
    "    \"En utilisant ces informations, veuillez répondre à la question suivante : {query_str}\\n\"\n",
    ")\n"
   ]
  },
  {
   "cell_type": "code",
   "execution_count": 56,
   "id": "add71770",
   "metadata": {},
   "outputs": [],
   "source": [
    "memory = ChatMemoryBuffer.from_defaults(token_limit=3900)\n",
    "vector_chat_engine = simple_index.as_chat_engine(\n",
    "    chat_mode=\"condense_plus_context\",\n",
    "    memory=memory,\n",
    "    llm=llm,\n",
    "    context_prompt=(\n",
    "       \"\"\" \n",
    "       Tu es une femme du XVIIIème siècle, tu es une écrivaine anglaise. Tu es connue pour ton roman Orgueil et Préjugés.\n",
    "       \"\"\"\n",
    "    ),\n",
    "    text_qa_template=custom_query_template,\n",
    "    verbose=False,\n",
    "    similarity_top_k=4\n",
    "    \n",
    ")"
   ]
  },
  {
   "cell_type": "code",
   "execution_count": 71,
   "id": "8b9e9cbd",
   "metadata": {},
   "outputs": [
    {
     "name": "stdout",
     "output_type": "stream",
     "text": [
      "INFO:httpx:HTTP Request: POST http://localhost:11434/api/chat \"HTTP/1.1 200 OK\"\n",
      "HTTP Request: POST http://localhost:11434/api/chat \"HTTP/1.1 200 OK\"\n",
      "HTTP Request: POST http://localhost:11434/api/chat \"HTTP/1.1 200 OK\"\n",
      "HTTP Request: POST http://localhost:11434/api/chat \"HTTP/1.1 200 OK\"\n",
      "INFO:llama_index.core.chat_engine.condense_plus_context:Condensed question: User: Décries l'homme le plus noble pour ton époque. Que son nom est-il?\n",
      "Assistant: L'homme le plus noble pour ton époque, il a un nom d'une beauté inégalité. Parmi tous les hommes célèbres de cette période, c'est le seul à remplir les attentes des artistes, des scientists et des philosophes. Il ne s'agit que d'un célèbre à être distingué par sa qualité qui l'a rendu célèbre.\n",
      "Condensed question: User: Décries l'homme le plus noble pour ton époque. Que son nom est-il?\n",
      "Assistant: L'homme le plus noble pour ton époque, il a un nom d'une beauté inégalité. Parmi tous les hommes célèbres de cette période, c'est le seul à remplir les attentes des artistes, des scientists et des philosophes. Il ne s'agit que d'un célèbre à être distingué par sa qualité qui l'a rendu célèbre.\n",
      "Condensed question: User: Décries l'homme le plus noble pour ton époque. Que son nom est-il?\n",
      "Assistant: L'homme le plus noble pour ton époque, il a un nom d'une beauté inégalité. Parmi tous les hommes célèbres de cette période, c'est le seul à remplir les attentes des artistes, des scientists et des philosophes. Il ne s'agit que d'un célèbre à être distingué par sa qualité qui l'a rendu célèbre.\n",
      "Condensed question: User: Décries l'homme le plus noble pour ton époque. Que son nom est-il?\n",
      "Assistant: L'homme le plus noble pour ton époque, il a un nom d'une beauté inégalité. Parmi tous les hommes célèbres de cette période, c'est le seul à remplir les attentes des artistes, des scientists et des philosophes. Il ne s'agit que d'un célèbre à être distingué par sa qualité qui l'a rendu célèbre.\n"
     ]
    },
    {
     "data": {
      "application/vnd.jupyter.widget-view+json": {
       "model_id": "23ab2f4779e0488bbaa77460fd9488d0",
       "version_major": 2,
       "version_minor": 0
      },
      "text/plain": [
       "Batches:   0%|          | 0/1 [00:00<?, ?it/s]"
      ]
     },
     "metadata": {},
     "output_type": "display_data"
    }
   ],
   "source": [
    "response_stream = vector_chat_engine.stream_chat(\"\"\"Dans la société du XVIIIème siècle, quelles sont les qualités des hommes ? des femmes ? \"\"\")"
   ]
  },
  {
   "cell_type": "code",
   "execution_count": 72,
   "id": "e13fc419",
   "metadata": {},
   "outputs": [
    {
     "name": "stdout",
     "output_type": "stream",
     "text": [
      "INFO:httpx:HTTP Request: POST http://localhost:11434/api/chat \"HTTP/1.1 200 OK\"\n",
      "HTTP Request: POST http://localhost:11434/api/chat \"HTTP/1.1 200 OK\"\n",
      "HTTP Request: POST http://localhost:11434/api/chat \"HTTP/1.1 200 OK\"\n",
      "HTTP Request: POST http://localhost:11434/api/chat \"HTTP/1.1 200 OK\"\n",
      "L'identification des qualités des hommes est interprétée comme étant celle des femmes. Il n'y a pas de consensus sur ceci dans l'histoire du XVIIIe siècle, mais les auteurs du roman ont souvent présenté le héros comme un homme prenant un rôle d'homme-femme en tant qu'autrui. Si la sociabilité du XIXe et XXe siècles est différente, il n'y a pas de consensus sur ceci dans l'histoire du XVIIIe."
     ]
    }
   ],
   "source": [
    "generate = response_stream.print_response_stream()"
   ]
  },
  {
   "cell_type": "code",
   "execution_count": 73,
   "id": "9519a649",
   "metadata": {},
   "outputs": [
    {
     "name": "stdout",
     "output_type": "stream",
     "text": [
      "descendent du côté maternel de la même noble  \n",
      "souche, et du côté paternel de familles anciennes  \n",
      "et honorables quoique non titrées. Leur fortune à  \n",
      "tous deux est énorme. Tout le monde dans les  \n",
      "deux  familles  est  d’accord  pour  désirer  ce \n",
      "mariage.  Et  qu’est-ce  qui  les  séparerait ?  Les \n",
      "prétentions  extravagantes  d’une  jeune  personne \n",
      "sans  parenté,  relations,  ni  fortune...  Peut-on \n",
      "supporter chose pareille  ? Non, cela ne doit pas  \n",
      "être, et cela ne sera pas. Si vous aviez le moindre  \n",
      "bon  sens,  vous  ne  souhaiteriez  pas  quitter  le \n",
      "milieu dans lequel vous avez été élevée.\n",
      "– Je ne considère pas que je le quitterais en  \n",
      "épousant  votre  neveu.  Mr.  Darcy  est  un \n",
      "gentleman, je suis la fille d’un gentleman  : sur ce \n",
      "point, nous sommes égaux.\n",
      "– Parfaitement,  vous  êtes  la  fille  d’un \n",
      "gentleman. Mais votre mère, qui est-elle  ? Et vos \n",
      "oncles,  et  vos  tantes ?...  Ne  croyez  pas  que \n",
      "j’ignore leur situation sociale.\n",
      "– Quelle que soit ma famille, si votre neveu  \n",
      "n’y trouve rien à redire, vous n’avez pas à vous  \n",
      "occuper d’elle.\n",
      "612\n",
      "pensez à l’importance que peut avoir le moindre  \n",
      "délai !\n",
      "– Voulez-vous que j’écrive pour vous, si cela  \n",
      "vous ennuie de le faire ? proposa Jane.\n",
      "– Cela m’ennuie énormément, mais il faut que  \n",
      "cela soit fait.\n",
      "Là-dessus  il  fit  volte-face  et  revint  vers  la \n",
      "maison avec ses filles.\n",
      "– Puis-je  vous  poser  une  question ?  dit \n",
      "Elizabeth. Ces conditions, il n’y a sans doute qu’à \n",
      "s’y soumettre ?\n",
      "– S’y  soumettre !  Je  suis  seulement  honteux \n",
      "qu’il demande si peu...\n",
      "– Et  il  faut  absolument  qu’ils  se  marient ? \n",
      "Tout de même, épouser un homme pareil !\n",
      "– Oui, oui ; il faut qu’ils se marient. C’est une  \n",
      "nécessité qui s’impose. Mais il y a deux choses  \n",
      "que je  désire  vivement  savoir :  d’abord,  quelle \n",
      "somme votre oncle a dû débourser pour obtenir  \n",
      "ce résultat  ; ensuite, comment je pourrai jamais  \n",
      "m’acquitter envers lui.\n",
      "– Quelle somme  ? Mon oncle  ? Que voulez-\n",
      "521\n",
      "prétention à cette sorte d’élégance, qui consiste à  \n",
      "faire souffrir un honnête homme. Je préférerais  \n",
      "qu’on me fît le compliment de croire à ce que je  \n",
      "dis.  Je  vous  remercie  mille  fois  de  votre \n",
      "proposition,  mais  il  m’est  impossible  de  \n",
      "l’accepter ;  mes  sentiments  me  l’interdisent \n",
      "absolument. Puis-je parler avec plus de clarté  ? \n",
      "Ne me prenez pas pour une coquette qui prendrait \n",
      "plaisir à vous tourmenter, mais pour une personne \n",
      "raisonnable qui parle en toute sincérité.\n",
      "– Vous  êtes  vraiment  délicieuse,  quoi  que \n",
      "vous  fassiez !  s’écria-t-il  avec  une  lourde \n",
      "galanterie, et je suis persuadé que ma demande,  \n",
      "une fois sanctionnée par la volonté expresse de  \n",
      "vos excellents parents, ne manquera pas de vous  \n",
      "paraître acceptable.\n",
      "Devant cette invincible persistance à vouloir  \n",
      "s’abuser,  Elizabeth  abandonna  la  partie  et  se \n",
      "retira en silence.\n",
      "194\n",
      "écrit  pour  demander  l’aide  immédiate  de  mon \n",
      "oncle.  Nous  allons  partir,  je  pense,  d’ici  une \n",
      "demi-heure.  Mais  que  pourra-t-on  faire ?  Quel \n",
      "recours y a-t-il contre un tel homme  ? Arrivera-t-\n",
      "on même  à les découvrir  ? Je n’ai pas le plus  \n",
      "léger espoir. La situation est horrible sous tous  \n",
      "ses aspects !\n",
      "Darcy acquiesça de la tête, silencieusement.\n",
      "– Ah ! quand on m’a ouvert les yeux sur la  \n",
      "véritable nature de cet homme, si j’avais su alors  \n",
      "quel était mon devoir ! Mais je n’ai pas su, j’ai eu \n",
      "peur d’aller trop loin... Quelle funeste erreur !\n",
      "Darcy  ne  répondit  pas.  Il  semblait  à  peine \n",
      "l’entendre ; plongé dans une profonde méditation, \n",
      "il arpentait la pièce d’un air sombre et le front  \n",
      "contracté.  Elizabeth  le  remarqua  et  comprit \n",
      "aussitôt :  le  pouvoir  qu’elle  avait  eu  sur  lui \n",
      "s’évanouissait,  sans  doute ;  tout  devait  céder \n",
      "devant  la  preuve  d’une  telle  faiblesse  dans  sa \n",
      "famille,  devant  l’assurance  d’une  si  profonde \n",
      "disgrâce. Elle ne pouvait pas plus s’en étonner  \n",
      "que condamner Darcy, mais la conviction qu’il  \n",
      "faisait effort pour se ressaisir n’apportait aucun  \n",
      "477\n"
     ]
    }
   ],
   "source": [
    "# Afficher les chunks utilisés\n",
    "for node in response_stream.source_nodes:\n",
    "    print(node.node.text)\n",
    "    "
   ]
  },
  {
   "cell_type": "code",
   "execution_count": 86,
   "id": "9936e8ec",
   "metadata": {},
   "outputs": [
    {
     "data": {
      "application/vnd.jupyter.widget-view+json": {
       "model_id": "2bb57f4c66004035bbd2badc590f4d0f",
       "version_major": 2,
       "version_minor": 0
      },
      "text/plain": [
       "Batches:   0%|          | 0/1 [00:00<?, ?it/s]"
      ]
     },
     "metadata": {},
     "output_type": "display_data"
    },
    {
     "name": "stdout",
     "output_type": "stream",
     "text": [
      "INFO:httpx:HTTP Request: POST http://localhost:11434/api/chat \"HTTP/1.1 200 OK\"\n",
      "HTTP Request: POST http://localhost:11434/api/chat \"HTTP/1.1 200 OK\"\n",
      "HTTP Request: POST http://localhost:11434/api/chat \"HTTP/1.1 200 OK\"\n",
      "HTTP Request: POST http://localhost:11434/api/chat \"HTTP/1.1 200 OK\"\n"
     ]
    }
   ],
   "source": [
    "query = \"Dans la société du XVIIIème siècle, quelles sont les qualités des hommes ? des femmes ? Répond en français\"\n",
    "query_engine = simple_index.as_query_engine(\n",
    "    include_text=True,\n",
    "    response_mode=\"tree_summarize\",\n",
    "    embedding_mode=\"hybrid\",\n",
    "    similarity_top_k=4,\n",
    ")\n",
    "\n",
    "response = query_engine.query(query)\n",
    "\n"
   ]
  },
  {
   "cell_type": "code",
   "execution_count": 87,
   "id": "39387d9c",
   "metadata": {},
   "outputs": [
    {
     "name": "stdout",
     "output_type": "stream",
     "text": [
      "To address the question about the quality of men and women in society during the 18th century, the context information from multiple sources provides a comprehensive understanding of the time period. The given information includes the following points:\n",
      "\n",
      "- Women were considered to be inferior to men in terms of their intellectual abilities and social status. They were expected to be subservient to men and were often oppressed by societal norms, such as marrying for financial stability or securing a husband's position within the community.\n",
      "\n",
      "- Men were expected to be strong, self-sufficient, and financially stable, with their success determined solely by their own abilities and hard work. They were often viewed as superior to women due to their greater resources and opportunities for advancement.\n",
      "\n",
      "- The gender roles were heavily defined in society during this time, with women expected to focus on nurturing and taking care of domestic duties, while men were responsible for more intellectual pursuits like learning a trade or pursuing formal education.\n",
      "\n",
      "Thus, the given information highlights that qualitys of men and women are closely correlated with gender roles, social status, andoversight, indicating that the questioner wasoyoumores...\n"
     ]
    }
   ],
   "source": [
    "print(response)"
   ]
  },
  {
   "cell_type": "code",
   "execution_count": 82,
   "id": "eaefafb9",
   "metadata": {},
   "outputs": [
    {
     "name": "stdout",
     "output_type": "stream",
     "text": [
      "font les jeunes filles pour acquérir tant de talents.  \n",
      "Toutes  savent  peindre  de  petites  tables,  broder \n",
      "des  éventails,  tricoter  des  bourses ;  je  n’en \n",
      "connais  pas  une  qui  ne  sache  faire  tout  cela ; \n",
      "jamais  je  n’ai  entendu  parler  d’une  jeune  fille \n",
      "sans  être  aussitôt  informé  qu’elle  était  \n",
      "« parfaitement accomplie ».\n",
      "– Ce n’est que trop vrai, dit Darcy. On qualifie  \n",
      "ainsi nombre de femmes qui ne savent en effet  \n",
      "que broder un écran ou tricoter une bourse, mais  \n",
      "je ne puis souscrire à votre jugement général sur  \n",
      "les femmes.  Pour  ma  part je n’en  connais  pas \n",
      "dans mes relations plus d’une demi-douzaine qui  \n",
      "méritent réellement cet éloge.\n",
      "– Alors,  observa  Elizabeth,  c’est  que  vous \n",
      "faites entrer beaucoup de choses dans l’idée que  \n",
      "vous vous formez d’une femme accomplie.\n",
      "– Beaucoup en effet.\n",
      "– Oh !  sans  doute,  s’écria  miss  Bingley,  sa \n",
      "fidèle alliée, pour qu’une femme soit accomplie,  \n",
      "il faut qu’elle ait une connaissance approfondie  \n",
      "de  la  musique,  du  chant,  de  la  danse  et  des \n",
      "langues étrangères. Mais il faut encore qu’elle ait  \n",
      "70\n",
      "---\n",
      "naturel.  Ses  sœurs  étaient  de  belles  personnes \n",
      "d’une élégance incontestable, et son beau-frère,  \n",
      "Mr. Hurst, avait l’air d’un gentleman, sans plus  ; \n",
      "mais  la  haute  taille,  la  belle  physionomie,  le \n",
      "grand  air  de  son  ami,  Mr.  Darcy,  aidés  de  la \n",
      "rumeur  qui  cinq  minutes  après  son  arrivée, \n",
      "circulait dans tous les groupes, qu’il possédait dix \n",
      "mille livres de rente, attirèrent bientôt sur celui-ci  \n",
      "l’attention de toute la salle.\n",
      "Le  sexe  fort  le  jugea  très  bel  homme,  les \n",
      "dames affirmèrent qu’il était beaucoup mieux que \n",
      "Mr. Bingley, et, pendant toute une partie de la  \n",
      "soirée,  on  le  considéra  avec  la  plus  vive \n",
      "admiration. \n",
      "Peu  à  peu,  cependant,  le  désappointement \n",
      "causé  par  son  attitude  vint  modifier  cette \n",
      "impression favorable. On s’aperçut bientôt qu’il  \n",
      "était fier, qu’il regardait tout le monde de haut et  \n",
      "ne daignait pas exprimer la moindre satisfaction.  \n",
      "Du  coup,  toute  son  immense  propriété  du \n",
      "Derbyshire  ne  put  empêcher  qu’on  le  déclarât \n",
      "antipathique et tout le contraire de son ami.\n",
      "Mr. Bingley, lui, avait eu vite fait de se mettre  \n",
      "19\n",
      "---\n",
      "XLII\n",
      "Si Elizabeth n’avait eu sous les yeux que le  \n",
      "spectacle de sa propre famille, elle n’aurait pu se  \n",
      "former une idée très avantageuse de la félicité  \n",
      "conjugale.  Son  père,  séduit  par  la  jeunesse,  la \n",
      "beauté et les apparences d’une heureuse nature,  \n",
      "avait épousé une femme dont l’esprit étroit et le  \n",
      "manque  de  jugement  avaient  eu  vite  fait \n",
      "d’éteindre en lui toute véritable affection. Avec le \n",
      "respect, l’estime et la confiance, tous ses rêves de \n",
      "bonheur domestique s’étaient trouvés détruits.\n",
      "Mr. Bennet n’était pas homme à chercher un  \n",
      "réconfort dans ces plaisirs auxquels tant d’autres  \n",
      "ont  recours  pour  se  consoler  de  déceptions \n",
      "causées  par  leur  imprudence.  Il  aimait  la \n",
      "campagne, les livres, et ces goûts furent la source  \n",
      "de  ses  principales  jouissances.  La  seule  chose \n",
      "dont  il  fût  redevable  à  sa  femme  était \n",
      "l’amusement que lui procuraient son ignorance et  \n",
      "412\n",
      "---\n",
      "sa sottise. Ce n’est évidemment pas le genre de  \n",
      "bonheur  qu’un  homme  souhaite  devoir  à  sa \n",
      "femme, mais, à défaut du reste, un philosophe se  \n",
      "contente des distractions qui sont à sa portée.\n",
      "Ce qu’il y avait d’incorrect à cet égard dans  \n",
      "les manières de Mr. Bennet n’échappait point à  \n",
      "Elizabeth et l’avait toujours peinée. Cependant,  \n",
      "appréciant les qualités de son père et touchée de  \n",
      "l’affectueuse  prédilection  qu’il  lui  témoignait, \n",
      "elle essayait de fermer les yeux sur ce qu’elle ne  \n",
      "pouvait  approuver  et  tâchait  d’oublier  ces \n",
      "atteintes continuelles au respect conjugal qui, en  \n",
      "exposant une mère à la critique de ses propres  \n",
      "enfants,  étaient  si  profondément  regrettables. \n",
      "Mais elle n’avait jamais compris comme elle le  \n",
      "faisait maintenant les désavantages réservés aux  \n",
      "enfants  nés  d’une  union  si  mal  assortie,  ni  le \n",
      "bonheur qu’auraient pu ajouter à leur existence  \n",
      "les  qualités  très  réelles  de  leur  père,  s’il  avait \n",
      "seulement pris la peine de les cultiver davantage.  \n",
      "Hors  la  joie  qu’elle  eut  de  voir  s’éloigner \n",
      "Wickham, Elizabeth n’eut guère à se féliciter du  \n",
      "départ  du  régiment.  Les  réunions  au  dehors \n",
      "avaient  perdu de leur  animation  tandis qu’à la \n",
      "413\n",
      "---\n"
     ]
    }
   ],
   "source": [
    "# Afficher les chunks utilisés\n",
    "for node in response.source_nodes:\n",
    "    print(node.node.text)\n",
    "    print(\"---\")"
   ]
  },
  {
   "cell_type": "code",
   "execution_count": 62,
   "id": "ca481eb1",
   "metadata": {},
   "outputs": [],
   "source": [
    "vector_chat_engine.reset()"
   ]
  }
 ],
 "metadata": {
  "kernelspec": {
   "display_name": "base",
   "language": "python",
   "name": "python3"
  },
  "language_info": {
   "codemirror_mode": {
    "name": "ipython",
    "version": 3
   },
   "file_extension": ".py",
   "mimetype": "text/x-python",
   "name": "python",
   "nbconvert_exporter": "python",
   "pygments_lexer": "ipython3",
   "version": "3.12.4"
  }
 },
 "nbformat": 4,
 "nbformat_minor": 5
}
